{
 "cells": [
  {
   "cell_type": "markdown",
   "metadata": {},
   "source": [
    "# Phase 3 Data Science Report"
   ]
  },
  {
   "cell_type": "markdown",
   "metadata": {},
   "source": [
    "# Introduction\n",
    "\n",
    "I picked label 7 because I like horses."
   ]
  },
  {
   "cell_type": "markdown",
   "metadata": {},
   "source": [
    "# Model Process\n",
    "\n",
    "To create my model I first created dataframes that were comprised of 50% images of horses and 50% images of other things. The training dataframe had 10000 images in total, while the testing dataframe had 2000 images in total. Following this I then split the dataframes into 4 variables. These 4 variables were x_train, y_train, x_test and y_test. With these variables I converted them into lists so that they can be processed and used to generate a model.\n",
    "\n",
    "The shape of my model contains 1 Conv layer with 64 filters, 1 MaxPooling layer, 1 Flatten layer, 1 Dense layer with 128 nodes and 1 Dense layer with 1 node. I used the Adam optimizer with a learning rate of 0.0001 alongside the BinaryCrossentropy loss function. For metrics I used the accuracy metric. I trained the model for 20 epochs with a batch size of 1000 and used the TensorBoard callback and the EarlyStopping callback."
   ]
  },
  {
   "cell_type": "markdown",
   "metadata": {},
   "source": [
    "# Model Performance\n",
    "\n",
    "Accuracy (Y-Axis) against Epochs (X-Axis) for Training\n",
    "\n",
    "![image](image/accuracy_against_epoch_train.PNG)\n",
    "\n",
    "Accuracy (Y-Axis) against Epochs (X-Axis) for Validation\n",
    "\n",
    "![image](image/accuracy_against_epoch_validation.PNG)\n",
    "\n",
    "Validation Loss (Y-Axis) against Epochs (X-Axis) for Training\n",
    "\n",
    "![image](image/val_loss_against_epoch_train.PNG)\n",
    "\n",
    "Validation Loss (Y-Axis) against Epochs (X-Axis) for Validation\n",
    "\n",
    "![image](image/val_loss_against_epoch_validation.PNG)\n",
    "\n",
    "\n",
    "For both the training and validation, the model performs well as the accuracy increases with more epochs while the validation loss decreases with more epochs"
   ]
  },
  {
   "cell_type": "markdown",
   "metadata": {},
   "source": [
    "# Conclusion\n",
    "\n",
    "In conclusion, my generated model after fitting the training sets had a validation accuracy of 81.6%. I am satisfied with this result as I managed to generate this model by only performing 20 epochs and know that with more time and epochs the model accuracy could be significantly higher. My generated model had a single Conv layer and 2 Dense layers, which means that the accuracy could potentially be improved by modifying the shape of my model by adding in more dense layers."
   ]
  },
  {
   "cell_type": "markdown",
   "metadata": {},
   "source": [
    "# References\n",
    "\n",
    "1. [Learning Multiple Layers of Features from Tiny Images](http://www.cs.toronto.edu/~kriz/learning-features-2009-TR.pdf), Alex Krizhevsky, 2009."
   ]
  }
 ],
 "metadata": {
  "kernelspec": {
   "display_name": "Python 3.10.4 64-bit",
   "language": "python",
   "name": "python3"
  },
  "language_info": {
   "name": "python",
   "version": "3.10.4"
  },
  "orig_nbformat": 4,
  "vscode": {
   "interpreter": {
    "hash": "866edbe6bc078d6c764486c8065f78f1b4840c1926347f0a9fa139e5d055f612"
   }
  }
 },
 "nbformat": 4,
 "nbformat_minor": 2
}
